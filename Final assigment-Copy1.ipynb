{
 "cells": [
  {
   "cell_type": "markdown",
   "metadata": {},
   "source": [
    "# A description of the data \n",
    "The data as csv file downloaded from Kaggle. detailed descriptions are below.\n",
    "•\tProvince/State - Province or state of the observation (Could be empty when missing)\n",
    "•\tCountry/Region - Country of observation\n",
    "•\tTotal confirmed Covid 19 cases from 1/22/2020 to 8/1/2020\n",
    "\n"
   ]
  },
  {
   "cell_type": "markdown",
   "metadata": {},
   "source": [
    "# Import data"
   ]
  },
  {
   "cell_type": "code",
   "execution_count": null,
   "metadata": {},
   "outputs": [],
   "source": [
    "import pandas as pd\n",
    "import numpy as np\n",
    "import folium # map rendering library\n",
    "df=pd.read_csv(\"data.csv\")"
   ]
  },
  {
   "cell_type": "markdown",
   "metadata": {},
   "source": [
    "# Add Location: Latitude & Longitude for various country :"
   ]
  },
  {
   "cell_type": "code",
   "execution_count": null,
   "metadata": {},
   "outputs": [],
   "source": [
    "#Import required package for obtaining Latitude and Longitude of each cities\n",
    "# Need to get Latitude & Longitude of Jakarta city and the districts\n",
    "# Get API key from the service provider (Open Cage Geocode)\n",
    "#!pip install opencage\n",
    "from opencage.geocoder import OpenCageGeocode\n",
    "key = 'xxxxxxxxxxxxx'\n",
    "geocoder = OpenCageGeocode(key)\n",
    "query = df[\"Country/Region\"]  \n",
    "results = geocoder.geocode(query)\n",
    "df['lat'] = results[0]['geometry']['lat']\n",
    "df['lng'] = results[0]['geometry']['lng']\n"
   ]
  },
  {
   "cell_type": "markdown",
   "metadata": {},
   "source": [
    "# How it will be used to solve the problem:\n",
    "Various visulization method can use to find out how China and various location around the word affected by this proble. One of useful tools in Folium map . The latitue and Longitude data that obtained before can help us to show the number of covid cases in each country/region around the world"
   ]
  },
  {
   "cell_type": "code",
   "execution_count": null,
   "metadata": {},
   "outputs": [],
   "source": []
  }
 ],
 "metadata": {
  "kernelspec": {
   "display_name": "Python 3",
   "language": "python",
   "name": "python3"
  },
  "language_info": {
   "codemirror_mode": {
    "name": "ipython",
    "version": 3
   },
   "file_extension": ".py",
   "mimetype": "text/x-python",
   "name": "python",
   "nbconvert_exporter": "python",
   "pygments_lexer": "ipython3",
   "version": "3.6.5"
  }
 },
 "nbformat": 4,
 "nbformat_minor": 2
}
